{
 "metadata": {
  "language_info": {
   "codemirror_mode": {
    "name": "ipython",
    "version": 3
   },
   "file_extension": ".py",
   "mimetype": "text/x-python",
   "name": "python",
   "nbconvert_exporter": "python",
   "pygments_lexer": "ipython3",
   "version": 3
  },
  "orig_nbformat": 2,
  "kernelspec": {
   "name": "python3",
   "language": "python",
   "display_name": "Python 3"
  }
 },
 "nbformat": 4,
 "nbformat_minor": 2,
 "cells": [
  {
   "cell_type": "code",
   "execution_count": 11,
   "outputs": [],
   "source": [
    "# nltk imports\n",
    "import nltk"
   ],
   "metadata": {
    "collapsed": false,
    "pycharm": {
     "name": "#%%\n"
    }
   }
  },
  {
   "cell_type": "code",
   "execution_count": 3,
   "metadata": {
    "pycharm": {
     "name": "#%% imports\n"
    }
   },
   "outputs": [],
   "source": [
    "import string\n",
    "import numpy as np\n",
    "import os\n",
    "\n",
    "basePath = os.path.abspath('') + \"\\\\sentiment-analysis-nlp\\\\\""
   ]
  },
  {
   "cell_type": "code",
   "execution_count": 4,
   "outputs": [
    {
     "data": {
      "text/plain": "['So there is no way for me to plug it in here in the US unless I go by a converter.\\t0\\n',\n 'Good case, Excellent value.\\t1\\n',\n 'Great for the jawbone.\\t1\\n',\n 'Tied to charger for conversations lasting more than 45 minutes.MAJOR PROBLEMS!!\\t0\\n',\n 'The mic is great.\\t1\\n',\n 'I have to jiggle the plug to get it to line up right to get decent volume.\\t0\\n',\n 'If you have several dozen or several hundred contacts, then imagine the fun of sending each of them one by one.\\t0\\n',\n 'If you are Razr owner...you must have this!\\t1\\n',\n 'Needless to say, I wasted my money.\\t0\\n',\n 'What a waste of money and time!.\\t0\\n']"
     },
     "execution_count": 4,
     "metadata": {},
     "output_type": "execute_result"
    }
   ],
   "source": [
    "file = basePath + \"NLP\\\\sentiment_labelled_sentences\\\\full_set.txt\"\n",
    "with open(file) as f:\n",
    "    content = f.readlines()\n",
    "\n",
    "content[0:10]"
   ],
   "metadata": {
    "collapsed": false,
    "pycharm": {
     "name": "#%%\n"
    }
   }
  },
  {
   "cell_type": "code",
   "execution_count": 5,
   "outputs": [],
   "source": [
    "# Removing white spaces\n",
    "content = [x.strip() for x in content]\n",
    "\n",
    "# Separating sentences from labels\n",
    "sentences = [x.split(\"\\t\")[0] for x in content]\n",
    "labels = [x.split(\"\\t\")[1] for x in content]"
   ],
   "metadata": {
    "collapsed": false,
    "pycharm": {
     "name": "#%%\n"
    }
   }
  },
  {
   "cell_type": "code",
   "execution_count": 6,
   "outputs": [
    {
     "data": {
      "text/plain": "['So there is no way for me to plug it in here in the US unless I go by a converter.',\n 'Good case, Excellent value.',\n 'Great for the jawbone.',\n 'Tied to charger for conversations lasting more than 45 minutes.MAJOR PROBLEMS!!',\n 'The mic is great.',\n 'I have to jiggle the plug to get it to line up right to get decent volume.',\n 'If you have several dozen or several hundred contacts, then imagine the fun of sending each of them one by one.',\n 'If you are Razr owner...you must have this!',\n 'Needless to say, I wasted my money.',\n 'What a waste of money and time!.']"
     },
     "execution_count": 6,
     "metadata": {},
     "output_type": "execute_result"
    }
   ],
   "source": [
    "sentences[0:10]"
   ],
   "metadata": {
    "collapsed": false,
    "pycharm": {
     "name": "#%%\n"
    }
   }
  },
  {
   "cell_type": "code",
   "execution_count": 7,
   "outputs": [
    {
     "data": {
      "text/plain": "['0', '1', '1', '0', '1', '0', '0', '1', '0', '0']"
     },
     "execution_count": 7,
     "metadata": {},
     "output_type": "execute_result"
    }
   ],
   "source": [
    "labels[0:10]"
   ],
   "metadata": {
    "collapsed": false,
    "pycharm": {
     "name": "#%%\n"
    }
   }
  },
  {
   "cell_type": "code",
   "execution_count": 8,
   "outputs": [
    {
     "data": {
      "text/plain": "array([-1,  1,  1, ..., -1, -1, -1], dtype=int8)"
     },
     "execution_count": 8,
     "metadata": {},
     "output_type": "execute_result"
    }
   ],
   "source": [
    "'''\n",
    "Transforming the labels to go from -1 to 1, instead of 0 to 1\n",
    "-1 represents negative, +1 represents positive\n",
    "'''\n",
    "\n",
    "y = np.array(labels, dtype='int8')\n",
    "y = 2*y - 1\n",
    "y"
   ],
   "metadata": {
    "collapsed": false,
    "pycharm": {
     "name": "#%% \n"
    }
   }
  },
  {
   "cell_type": "code",
   "execution_count": 13,
   "outputs": [
    {
     "data": {
      "text/plain": "['so there is no way for me plug in here in us unless go by converter',\n 'good case excellent value',\n 'great for jawbone',\n 'tied charger for conversations lasting more than minutes major problems',\n 'mic is great',\n 'have jiggle plug get line up right get decent volume',\n 'if you have several dozen or several hundred contacts then imagine fun sending each them one by one',\n 'if you are razr owner you must have this',\n 'needless say wasted my money',\n 'what waste money and time']"
     },
     "execution_count": 13,
     "metadata": {},
     "output_type": "execute_result"
    }
   ],
   "source": [
    "# Removing extras - stopwords, digits, punctuation\n",
    "\n",
    "def remove_elements(x, removal_list):\n",
    "    for w in removal_list:\n",
    "        x = x.replace(w, ' ')\n",
    "    return x\n",
    "\n",
    "# Removing digits\n",
    "digit_list = [str(x) for x in range(10)]\n",
    "digits_removed = [remove_elements(x, digit_list) for x in sentences]\n",
    "\n",
    "# Removing punctuations\n",
    "punctuations_removed = [remove_elements(x, string.punctuation) for x in digits_removed]\n",
    "\n",
    "# Converting to lower case and removing whitespaces\n",
    "sentences = [x.lower() for x in punctuations_removed]\n",
    "sentences = [x.strip() for x in sentences]\n",
    "\n",
    "# Removing stopwords\n",
    "def remove_stopwords(stopword, text):\n",
    "    new_text = ' '.join([word for word in text.split() if word not in stopword])\n",
    "    return new_text\n",
    "\n",
    "# Defining our own set of stopwords\n",
    "stop_set = ['the', 'a', 'an', 'i', 'he', 'she', 'they', 'to', 'of', 'it', 'from']\n",
    "preprocessed = [remove_stopwords(stop_set, x) for x in sentences]\n",
    "preprocessed[0:10]"
   ],
   "metadata": {
    "collapsed": false,
    "pycharm": {
     "name": "#%%\n"
    }
   }
  },
  {
   "cell_type": "code",
   "source": [
    "def porter_stemmer(words):\n",
    "    porter = nltk.PorterStemmer()\n",
    "    stemmed = [porter.stem(word) for word in words]\n",
    "    return stemmed\n",
    "\n",
    "stemmed_sentences = [porter_stemmer(words.split()) for words in preprocessed]\n",
    "stemmed_sentences = [\" \".join(i) for i in stemmed_sentences]\n",
    "stemmed_sentences[0:10]"
   ],
   "metadata": {
    "collapsed": false,
    "pycharm": {
     "name": "#%%\n"
    }
   },
   "execution_count": null,
   "outputs": []
  },
  {
   "cell_type": "code",
   "execution_count": null,
   "outputs": [],
   "source": [
    "# TD/IDF\n",
    "\n",
    "from sklearn.feature_extraction.text import CountVectorizer, TfidfTransformer\n",
    "vectorizer = CountVectorizer(analyzer=\"word\",\n",
    "                             preprocessor=None,\n",
    "                             stop_words='english',\n",
    "                             max_features=6000,\n",
    "                             ngram_range=(1,5))\n",
    "\n",
    "date_features = vectorizer.fit_transform(preprocessed)\n",
    "tfidf_transformer = TfidfTransformer()\n",
    "data_features_tfidf = tfidf_transformer.fit_transform(date_features)\n",
    "data_matrix = data_features_tfidf.toarray()\n",
    "data_matrix"
   ],
   "metadata": {
    "collapsed": false,
    "pycharm": {
     "name": "#%%\n"
    }
   }
  },
  {
   "cell_type": "code",
   "execution_count": null,
   "outputs": [],
   "source": [
    "# Creating Training and Test Sets\n",
    "\n",
    "np.random.seed(0)\n",
    "test_index = np.append(np.random.choice((np.where(y==-1))[0], 250, replace=False),\n",
    "                       np.random.choice((np.where(y==1))[0], 250, replace=False))\n",
    "train_index = list(set(range(len(labels))) - set(test_index))\n",
    "\n",
    "train_data = data_matrix[train_index,]\n",
    "train_labels = y[train_index]\n",
    "\n",
    "test_data = data_matrix[test_index,]\n",
    "test_labels = y[test_index]"
   ],
   "metadata": {
    "collapsed": false,
    "pycharm": {
     "name": "#%%\n"
    }
   }
  },
  {
   "cell_type": "code",
   "execution_count": null,
   "outputs": [],
   "source": [],
   "metadata": {
    "collapsed": false,
    "pycharm": {
     "name": "#%%\n"
    }
   }
  }
 ]
}